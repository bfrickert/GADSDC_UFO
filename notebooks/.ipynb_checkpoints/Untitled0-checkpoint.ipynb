{
 "metadata": {
  "name": "",
  "signature": "sha256:0c3efc5623ac29349fa328c4a480af65d2d0b95d2b70067663c07bae3dd8c5c4"
 },
 "nbformat": 3,
 "nbformat_minor": 0,
 "worksheets": []
}