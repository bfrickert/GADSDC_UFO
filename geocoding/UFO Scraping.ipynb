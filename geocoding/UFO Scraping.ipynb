{
 "metadata": {
  "name": "",
  "signature": "sha256:5b261394bac240b79625c01931f3804f98e08e910ac10313733b40d5ec5bd54c"
 },
 "nbformat": 3,
 "nbformat_minor": 0,
 "worksheets": [
  {
   "cells": [
    {
     "cell_type": "code",
     "collapsed": false,
     "input": [
      "import requests\n",
      "from BeautifulSoup import BeautifulSoup\n",
      "import pandas as pd\n",
      "import time"
     ],
     "language": "python",
     "metadata": {},
     "outputs": [],
     "prompt_number": 117
    },
    {
     "cell_type": "code",
     "collapsed": false,
     "input": [
      "dates = ['201301', '201302', '201303', '201304', '201305', '201306', \n",
      "         '201307', '201308', '201309', '201310', '201311', '201312', \n",
      "         '201401', '201402', '201403', '201404', '201405', '201406', \n",
      "         '201407', '201408']"
     ],
     "language": "python",
     "metadata": {},
     "outputs": [],
     "prompt_number": 118
    },
    {
     "cell_type": "code",
     "collapsed": false,
     "input": [
      "def scrapeUFOSightings(date):\n",
      "    url = \"http://www.nuforc.org/webreports/ndxe{0}.html\".format(date)\n",
      "    response = requests.get(url)\n",
      "    soup = BeautifulSoup(response.text)\n",
      "    table = soup.findAll('table')\n",
      "    values = []\n",
      "    for row in soup.findAll('tr'):\n",
      "        cells = row.findAll('td')\n",
      "        #For each \"tr\", assign each \"td\" to a variable.\n",
      "        if len(cells) > 0:\n",
      "            sightingdt = cells[0].find(text=True)\n",
      "            City = cells[1].find(text=True)\n",
      "            State = cells[2].find(text=True)\n",
      "            Shape = cells[3].find(text=True)\n",
      "            Duration = cells[4].find(text=True)\n",
      "            Summary = cells[5].find(text=True)\n",
      "            values.append([sightingdt, City, State, Shape, Duration, Summary])\n",
      "    df = pd.DataFrame(values)\n",
      "    return df\n"
     ],
     "language": "python",
     "metadata": {},
     "outputs": [],
     "prompt_number": 119
    },
    {
     "cell_type": "code",
     "collapsed": false,
     "input": [
      "df = pd.DataFrame()\n",
      "for date in dates:\n",
      "    df = df.append(scrapeUFOSightings(date))"
     ],
     "language": "python",
     "metadata": {},
     "outputs": []
    },
    {
     "cell_type": "code",
     "collapsed": false,
     "input": [
      "df.columns = ['SightingDate','City','State','Shape', 'Duration', 'Summary']\n",
      "df.to_csv('UFO2013-4.tsv', sep='\\t')"
     ],
     "language": "python",
     "metadata": {},
     "outputs": [],
     "prompt_number": 29
    }
   ],
   "metadata": {}
  }
 ]
}